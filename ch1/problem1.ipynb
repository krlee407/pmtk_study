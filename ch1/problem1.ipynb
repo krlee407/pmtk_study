{
 "metadata": {
  "language_info": {
   "codemirror_mode": {
    "name": "ipython",
    "version": 3
   },
   "file_extension": ".py",
   "mimetype": "text/x-python",
   "name": "python",
   "nbconvert_exporter": "python",
   "pygments_lexer": "ipython3",
   "version": "3.6.3"
  },
  "orig_nbformat": 4,
  "kernelspec": {
   "name": "python3",
   "display_name": "Python 3.6.3 64-bit"
  },
  "interpreter": {
   "hash": "78c62bd594015071fc94ec09f8f0c8693d5df646d29fd961f83262230d581249"
  }
 },
 "nbformat": 4,
 "nbformat_minor": 2,
 "cells": [
  {
   "cell_type": "code",
   "execution_count": 1,
   "metadata": {},
   "outputs": [],
   "source": [
    "# 1.1 셔플된 MNIST 데이터에서 KNN 분류기\n",
    "\n",
    "### A. 1-NN의 MNIST의 오분류 확률이 앞의 천개의 데이터에서 3.8%, 전체 데이터(만개)에서 3.09%임을 증명하라\n",
    "### B. 컬럼 순서를 임의로 변경하여도 에러율은 변경되지 않음을 증명하라"
   ]
  },
  {
   "cell_type": "code",
   "execution_count": 2,
   "metadata": {},
   "outputs": [
    {
     "output_type": "stream",
     "name": "stdout",
     "text": [
      "train_data : (28, 28, 60000)\ntest_data : (28, 28, 10000)\ntrain_label : (60000, 1)\ntest_label : (10000, 1)\n"
     ]
    }
   ],
   "source": [
    "from scipy import io\n",
    "\n",
    "data = io.loadmat('../pmtk3/bigData/mnistAll/mnistAll.mat')['mnist'][0][0]\n",
    "data_cat = ['train_data', 'test_data', 'train_label', 'test_label']\n",
    "\n",
    "for i in range(4):\n",
    "    print(data_cat[i], \":\", data[i].shape)"
   ]
  },
  {
   "cell_type": "code",
   "execution_count": 3,
   "metadata": {},
   "outputs": [
    {
     "output_type": "display_data",
     "data": {
      "text/plain": "<Figure size 432x288 with 1 Axes>",
      "image/svg+xml": "<?xml version=\"1.0\" encoding=\"utf-8\" standalone=\"no\"?>\n<!DOCTYPE svg PUBLIC \"-//W3C//DTD SVG 1.1//EN\"\n  \"http://www.w3.org/Graphics/SVG/1.1/DTD/svg11.dtd\">\n<!-- Created with matplotlib (https://matplotlib.org/) -->\n<svg height=\"248.518125pt\" version=\"1.1\" viewBox=\"0 0 251.565 248.518125\" width=\"251.565pt\" xmlns=\"http://www.w3.org/2000/svg\" xmlns:xlink=\"http://www.w3.org/1999/xlink\">\n <defs>\n  <style type=\"text/css\">\n*{stroke-linecap:butt;stroke-linejoin:round;}\n  </style>\n </defs>\n <g id=\"figure_1\">\n  <g id=\"patch_1\">\n   <path d=\"M 0 248.518125 \nL 251.565 248.518125 \nL 251.565 0 \nL 0 0 \nz\n\" style=\"fill:none;\"/>\n  </g>\n  <g id=\"axes_1\">\n   <g id=\"patch_2\">\n    <path d=\"M 26.925 224.64 \nL 244.365 224.64 \nL 244.365 7.2 \nL 26.925 7.2 \nz\n\" style=\"fill:#ffffff;\"/>\n   </g>\n   <g clip-path=\"url(#p05e72286fc)\">\n    <image height=\"218\" id=\"image0c835b7bca\" transform=\"scale(1 -1)translate(0 -218)\" width=\"218\" x=\"26.925\" xlink:href=\"data:image/png;base64,\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\" y=\"-6.64\"/>\n   </g>\n   <g id=\"matplotlib.axis_1\">\n    <g id=\"xtick_1\">\n     <g id=\"line2d_1\">\n      <defs>\n       <path d=\"M 0 0 \nL 0 3.5 \n\" id=\"m54be5cc9a0\" style=\"stroke:#000000;stroke-width:0.8;\"/>\n      </defs>\n      <g>\n       <use style=\"stroke:#000000;stroke-width:0.8;\" x=\"30.807857\" xlink:href=\"#m54be5cc9a0\" y=\"224.64\"/>\n      </g>\n     </g>\n     <g id=\"text_1\">\n      <!-- 0 -->\n      <defs>\n       <path d=\"M 31.78125 66.40625 \nQ 24.171875 66.40625 20.328125 58.90625 \nQ 16.5 51.421875 16.5 36.375 \nQ 16.5 21.390625 20.328125 13.890625 \nQ 24.171875 6.390625 31.78125 6.390625 \nQ 39.453125 6.390625 43.28125 13.890625 \nQ 47.125 21.390625 47.125 36.375 \nQ 47.125 51.421875 43.28125 58.90625 \nQ 39.453125 66.40625 31.78125 66.40625 \nz\nM 31.78125 74.21875 \nQ 44.046875 74.21875 50.515625 64.515625 \nQ 56.984375 54.828125 56.984375 36.375 \nQ 56.984375 17.96875 50.515625 8.265625 \nQ 44.046875 -1.421875 31.78125 -1.421875 \nQ 19.53125 -1.421875 13.0625 8.265625 \nQ 6.59375 17.96875 6.59375 36.375 \nQ 6.59375 54.828125 13.0625 64.515625 \nQ 19.53125 74.21875 31.78125 74.21875 \nz\n\" id=\"DejaVuSans-48\"/>\n      </defs>\n      <g transform=\"translate(27.626607 239.238437)scale(0.1 -0.1)\">\n       <use xlink:href=\"#DejaVuSans-48\"/>\n      </g>\n     </g>\n    </g>\n    <g id=\"xtick_2\">\n     <g id=\"line2d_2\">\n      <g>\n       <use style=\"stroke:#000000;stroke-width:0.8;\" x=\"69.636429\" xlink:href=\"#m54be5cc9a0\" y=\"224.64\"/>\n      </g>\n     </g>\n     <g id=\"text_2\">\n      <!-- 5 -->\n      <defs>\n       <path d=\"M 10.796875 72.90625 \nL 49.515625 72.90625 \nL 49.515625 64.59375 \nL 19.828125 64.59375 \nL 19.828125 46.734375 \nQ 21.96875 47.46875 24.109375 47.828125 \nQ 26.265625 48.1875 28.421875 48.1875 \nQ 40.625 48.1875 47.75 41.5 \nQ 54.890625 34.8125 54.890625 23.390625 \nQ 54.890625 11.625 47.5625 5.09375 \nQ 40.234375 -1.421875 26.90625 -1.421875 \nQ 22.3125 -1.421875 17.546875 -0.640625 \nQ 12.796875 0.140625 7.71875 1.703125 \nL 7.71875 11.625 \nQ 12.109375 9.234375 16.796875 8.0625 \nQ 21.484375 6.890625 26.703125 6.890625 \nQ 35.15625 6.890625 40.078125 11.328125 \nQ 45.015625 15.765625 45.015625 23.390625 \nQ 45.015625 31 40.078125 35.4375 \nQ 35.15625 39.890625 26.703125 39.890625 \nQ 22.75 39.890625 18.8125 39.015625 \nQ 14.890625 38.140625 10.796875 36.28125 \nz\n\" id=\"DejaVuSans-53\"/>\n      </defs>\n      <g transform=\"translate(66.455179 239.238437)scale(0.1 -0.1)\">\n       <use xlink:href=\"#DejaVuSans-53\"/>\n      </g>\n     </g>\n    </g>\n    <g id=\"xtick_3\">\n     <g id=\"line2d_3\">\n      <g>\n       <use style=\"stroke:#000000;stroke-width:0.8;\" x=\"108.465\" xlink:href=\"#m54be5cc9a0\" y=\"224.64\"/>\n      </g>\n     </g>\n     <g id=\"text_3\">\n      <!-- 10 -->\n      <defs>\n       <path d=\"M 12.40625 8.296875 \nL 28.515625 8.296875 \nL 28.515625 63.921875 \nL 10.984375 60.40625 \nL 10.984375 69.390625 \nL 28.421875 72.90625 \nL 38.28125 72.90625 \nL 38.28125 8.296875 \nL 54.390625 8.296875 \nL 54.390625 0 \nL 12.40625 0 \nz\n\" id=\"DejaVuSans-49\"/>\n      </defs>\n      <g transform=\"translate(102.1025 239.238437)scale(0.1 -0.1)\">\n       <use xlink:href=\"#DejaVuSans-49\"/>\n       <use x=\"63.623047\" xlink:href=\"#DejaVuSans-48\"/>\n      </g>\n     </g>\n    </g>\n    <g id=\"xtick_4\">\n     <g id=\"line2d_4\">\n      <g>\n       <use style=\"stroke:#000000;stroke-width:0.8;\" x=\"147.293571\" xlink:href=\"#m54be5cc9a0\" y=\"224.64\"/>\n      </g>\n     </g>\n     <g id=\"text_4\">\n      <!-- 15 -->\n      <g transform=\"translate(140.931071 239.238437)scale(0.1 -0.1)\">\n       <use xlink:href=\"#DejaVuSans-49\"/>\n       <use x=\"63.623047\" xlink:href=\"#DejaVuSans-53\"/>\n      </g>\n     </g>\n    </g>\n    <g id=\"xtick_5\">\n     <g id=\"line2d_5\">\n      <g>\n       <use style=\"stroke:#000000;stroke-width:0.8;\" x=\"186.122143\" xlink:href=\"#m54be5cc9a0\" y=\"224.64\"/>\n      </g>\n     </g>\n     <g id=\"text_5\">\n      <!-- 20 -->\n      <defs>\n       <path d=\"M 19.1875 8.296875 \nL 53.609375 8.296875 \nL 53.609375 0 \nL 7.328125 0 \nL 7.328125 8.296875 \nQ 12.9375 14.109375 22.625 23.890625 \nQ 32.328125 33.6875 34.8125 36.53125 \nQ 39.546875 41.84375 41.421875 45.53125 \nQ 43.3125 49.21875 43.3125 52.78125 \nQ 43.3125 58.59375 39.234375 62.25 \nQ 35.15625 65.921875 28.609375 65.921875 \nQ 23.96875 65.921875 18.8125 64.3125 \nQ 13.671875 62.703125 7.8125 59.421875 \nL 7.8125 69.390625 \nQ 13.765625 71.78125 18.9375 73 \nQ 24.125 74.21875 28.421875 74.21875 \nQ 39.75 74.21875 46.484375 68.546875 \nQ 53.21875 62.890625 53.21875 53.421875 \nQ 53.21875 48.921875 51.53125 44.890625 \nQ 49.859375 40.875 45.40625 35.40625 \nQ 44.1875 33.984375 37.640625 27.21875 \nQ 31.109375 20.453125 19.1875 8.296875 \nz\n\" id=\"DejaVuSans-50\"/>\n      </defs>\n      <g transform=\"translate(179.759643 239.238437)scale(0.1 -0.1)\">\n       <use xlink:href=\"#DejaVuSans-50\"/>\n       <use x=\"63.623047\" xlink:href=\"#DejaVuSans-48\"/>\n      </g>\n     </g>\n    </g>\n    <g id=\"xtick_6\">\n     <g id=\"line2d_6\">\n      <g>\n       <use style=\"stroke:#000000;stroke-width:0.8;\" x=\"224.950714\" xlink:href=\"#m54be5cc9a0\" y=\"224.64\"/>\n      </g>\n     </g>\n     <g id=\"text_6\">\n      <!-- 25 -->\n      <g transform=\"translate(218.588214 239.238437)scale(0.1 -0.1)\">\n       <use xlink:href=\"#DejaVuSans-50\"/>\n       <use x=\"63.623047\" xlink:href=\"#DejaVuSans-53\"/>\n      </g>\n     </g>\n    </g>\n   </g>\n   <g id=\"matplotlib.axis_2\">\n    <g id=\"ytick_1\">\n     <g id=\"line2d_7\">\n      <defs>\n       <path d=\"M 0 0 \nL -3.5 0 \n\" id=\"mbebdf31041\" style=\"stroke:#000000;stroke-width:0.8;\"/>\n      </defs>\n      <g>\n       <use style=\"stroke:#000000;stroke-width:0.8;\" x=\"26.925\" xlink:href=\"#mbebdf31041\" y=\"11.082857\"/>\n      </g>\n     </g>\n     <g id=\"text_7\">\n      <!-- 0 -->\n      <g transform=\"translate(13.5625 14.882076)scale(0.1 -0.1)\">\n       <use xlink:href=\"#DejaVuSans-48\"/>\n      </g>\n     </g>\n    </g>\n    <g id=\"ytick_2\">\n     <g id=\"line2d_8\">\n      <g>\n       <use style=\"stroke:#000000;stroke-width:0.8;\" x=\"26.925\" xlink:href=\"#mbebdf31041\" y=\"49.911429\"/>\n      </g>\n     </g>\n     <g id=\"text_8\">\n      <!-- 5 -->\n      <g transform=\"translate(13.5625 53.710647)scale(0.1 -0.1)\">\n       <use xlink:href=\"#DejaVuSans-53\"/>\n      </g>\n     </g>\n    </g>\n    <g id=\"ytick_3\">\n     <g id=\"line2d_9\">\n      <g>\n       <use style=\"stroke:#000000;stroke-width:0.8;\" x=\"26.925\" xlink:href=\"#mbebdf31041\" y=\"88.74\"/>\n      </g>\n     </g>\n     <g id=\"text_9\">\n      <!-- 10 -->\n      <g transform=\"translate(7.2 92.539219)scale(0.1 -0.1)\">\n       <use xlink:href=\"#DejaVuSans-49\"/>\n       <use x=\"63.623047\" xlink:href=\"#DejaVuSans-48\"/>\n      </g>\n     </g>\n    </g>\n    <g id=\"ytick_4\">\n     <g id=\"line2d_10\">\n      <g>\n       <use style=\"stroke:#000000;stroke-width:0.8;\" x=\"26.925\" xlink:href=\"#mbebdf31041\" y=\"127.568571\"/>\n      </g>\n     </g>\n     <g id=\"text_10\">\n      <!-- 15 -->\n      <g transform=\"translate(7.2 131.36779)scale(0.1 -0.1)\">\n       <use xlink:href=\"#DejaVuSans-49\"/>\n       <use x=\"63.623047\" xlink:href=\"#DejaVuSans-53\"/>\n      </g>\n     </g>\n    </g>\n    <g id=\"ytick_5\">\n     <g id=\"line2d_11\">\n      <g>\n       <use style=\"stroke:#000000;stroke-width:0.8;\" x=\"26.925\" xlink:href=\"#mbebdf31041\" y=\"166.397143\"/>\n      </g>\n     </g>\n     <g id=\"text_11\">\n      <!-- 20 -->\n      <g transform=\"translate(7.2 170.196362)scale(0.1 -0.1)\">\n       <use xlink:href=\"#DejaVuSans-50\"/>\n       <use x=\"63.623047\" xlink:href=\"#DejaVuSans-48\"/>\n      </g>\n     </g>\n    </g>\n    <g id=\"ytick_6\">\n     <g id=\"line2d_12\">\n      <g>\n       <use style=\"stroke:#000000;stroke-width:0.8;\" x=\"26.925\" xlink:href=\"#mbebdf31041\" y=\"205.225714\"/>\n      </g>\n     </g>\n     <g id=\"text_12\">\n      <!-- 25 -->\n      <g transform=\"translate(7.2 209.024933)scale(0.1 -0.1)\">\n       <use xlink:href=\"#DejaVuSans-50\"/>\n       <use x=\"63.623047\" xlink:href=\"#DejaVuSans-53\"/>\n      </g>\n     </g>\n    </g>\n   </g>\n   <g id=\"patch_3\">\n    <path d=\"M 26.925 224.64 \nL 26.925 7.2 \n\" style=\"fill:none;stroke:#000000;stroke-linecap:square;stroke-linejoin:miter;stroke-width:0.8;\"/>\n   </g>\n   <g id=\"patch_4\">\n    <path d=\"M 244.365 224.64 \nL 244.365 7.2 \n\" style=\"fill:none;stroke:#000000;stroke-linecap:square;stroke-linejoin:miter;stroke-width:0.8;\"/>\n   </g>\n   <g id=\"patch_5\">\n    <path d=\"M 26.925 224.64 \nL 244.365 224.64 \n\" style=\"fill:none;stroke:#000000;stroke-linecap:square;stroke-linejoin:miter;stroke-width:0.8;\"/>\n   </g>\n   <g id=\"patch_6\">\n    <path d=\"M 26.925 7.2 \nL 244.365 7.2 \n\" style=\"fill:none;stroke:#000000;stroke-linecap:square;stroke-linejoin:miter;stroke-width:0.8;\"/>\n   </g>\n  </g>\n </g>\n <defs>\n  <clipPath id=\"p05e72286fc\">\n   <rect height=\"217.44\" width=\"217.44\" x=\"26.925\" y=\"7.2\"/>\n  </clipPath>\n </defs>\n</svg>\n",
      "image/png": "[encoded data removed]"
     },
     "metadata": {}
    }
   ],
   "source": [
    "import matplotlib.pyplot as plt\n",
    "\n",
    "plt.imshow(data[0][:,:,0])\n",
    "plt.show()"
   ]
  },
  {
   "cell_type": "code",
   "execution_count": 4,
   "metadata": {},
   "outputs": [],
   "source": [
    "import numpy as np\n",
    "\n",
    "def euclidean_distance(a, b):\n",
    "    return np.sqrt(np.sum(a * a + b * b - 2 * a * b))\n",
    "\n",
    "assert euclidean_distance(np.array([0, 0]), np.array([1,1])) == np.sqrt(2)\n",
    "\n",
    "def np_matadd(a, b):\n",
    "    a_expanded = np.hstack([a, np.ones(a.shape)])\n",
    "    b_expanded = np.hstack([np.ones(b.shape), b])\n",
    "    return np.matmul(a_expanded, b_expanded.T)\n",
    "\n",
    "assert (np_matadd(np.array([[0, 1], [2, 3], [4, 5], [6, 7]]), np.array([[0, 1], [2, 3]])) == np.array([[2, 6], [6, 10], [10, 14], [14, 18]])).all()\n",
    "\n",
    "class KNN:\n",
    "    def __init__(self, k):\n",
    "        self.k = k\n",
    "\n",
    "    def fit(self, data, label):\n",
    "        self.data = data # 2d array\n",
    "        self.label = label\n",
    "        self.labels = np.array(list(set(self.label)))\n",
    "        self.labels.sort()\n",
    "    \n",
    "    def predict_one(self, x):\n",
    "        distance_square = np.sum(self.data * self.data + x * x - 2 * self.data * x, axis=1) # 상대적인 길이 비교를 하면되기 때문에 거리의 제곱 값으로 비교\n",
    "        argmax_index = distance_square.argsort()[:self.k] # 거리 값이 낮은 k개의 index를 선택\n",
    "        nearest_label = self.label[argmax_index] # 가까운 k개 노드들의 Label의 집합을 구함\n",
    "        labels, count = np.unique(nearest_label, return_counts=True) # label들의 개수를 카운트\n",
    "        return labels[np.argmax(count)] # 개수가 가장 많은 label을 출력\n",
    "    \n",
    "    def predict(self, X):\n",
    "        a_square = X * X\n",
    "        b_square = self.data * self.data\n",
    "        distance_square = np_matadd(a_square, b_square) - 2 * np.matmul(X, self.data.T)\n",
    "        argmax_index_2d = distance_square.argsort(axis=1) # 거리 값이 낮은 k개의 index를 선택\n",
    "        \n",
    "        result = []\n",
    "        for i in range(X.shape[0]):\n",
    "            argmax_index = argmax_index_2d[i, :self.k]\n",
    "            nearest_label = self.label[argmax_index] # 가까운 k개 노드들의 Label의 집합을 구함\n",
    "            labels, count = np.unique(nearest_label, return_counts=True) # label들의 개수를 카운트\n",
    "            result.append(labels[np.argmax(count)]) # 개수가 가장 많은 label을 반환\n",
    "        return np.array(result)\n",
    "    \n",
    "    def predict_proba(self, X):\n",
    "        a_square = X * X\n",
    "        b_square = self.data * self.data\n",
    "        distance_square = np_matadd(a_square, b_square) - 2 * np.matmul(X, self.data.T)\n",
    "        argmax_index_2d = distance_square.argsort(axis=1) # 거리 값이 낮은 k개의 index를 선택\n",
    "        \n",
    "        result = np.zeros((X.shape[0], self.labels.shape[0]))\n",
    "        for i in range(X.shape[0]):\n",
    "            argmax_index = argmax_index_2d[i, :self.k]\n",
    "            nearest_label = self.label[argmax_index] # 가까운 k개 노드들의 Label의 집합을 구함\n",
    "            labels, count = np.unique(nearest_label, return_counts=True) # label들의 개수를 카운트\n",
    "            \n",
    "            for l, c in zip(labels, count):\n",
    "                result[i, np.where(self.labels == l)] = c * 1.0 / sum(count)\n",
    "        return result\n",
    "\n",
    "\n",
    "### KNN test code\n",
    "test_data = np.array([[-2, 0],\n",
    "                      [-1, 0],\n",
    "                      [0, 0],\n",
    "                      [2, 0],\n",
    "                      [2, 1],\n",
    "                      [2, 2]])\n",
    "test_label = np.array([0, 0, 0, 1, 1, 1])\n",
    "knn_model = KNN(3)\n",
    "knn_model.fit(test_data, test_label)\n",
    "assert knn_model.predict_one(np.array([0, 1])) == 0\n",
    "assert knn_model.predict_one(np.array([1, 0])) == 1\n",
    "assert knn_model.predict_one(np.array([2, 3])) == 1\n",
    "assert (knn_model.predict(np.array([[0, 1], [1, 0], [2, 3]])) == np.array([0, 1, 1])).all()\n",
    "assert (knn_model.predict_proba(np.array([[1, 0], [2, 3]])) == np.array([[1.0 / 3, 2.0 / 3], [0, 1]])).all()\n",
    "\n",
    "def accuracy(a, b):\n",
    "    return np.sum(a == b) * 1.0 / a.shape[0]\n",
    "assert accuracy(np.array([1, 1, 1, 1]), np.array([1, 1, 1, 1])) == 1.0\n",
    "assert accuracy(np.array([1, 0, 1, 1]), np.array([1, 1, 0, 1])) == 0.5\n",
    "assert accuracy(np.array([1, 1, 1]), np.array([0, 0, 0])) == 0.0"
   ]
  },
  {
   "cell_type": "code",
   "execution_count": 5,
   "metadata": {},
   "outputs": [],
   "source": [
    "### solution A\n",
    "train_data, test_data, train_label, test_label = data\n",
    "train_data = np.transpose(train_data, (2, 0, 1))\n",
    "train_data = train_data.reshape(-1, 28 * 28)\n",
    "train_data = np.array(train_data, dtype='int64')\n",
    "test_data = np.transpose(test_data, (2, 0, 1))\n",
    "test_data = test_data.reshape(-1, 28 * 28)\n",
    "test_data = np.array(test_data, dtype='int64')\n",
    "train_label = train_label.reshape(-1)\n",
    "test_label = test_label.reshape(-1)\n",
    "\n",
    "knn_model = KNN(3)\n",
    "knn_model.fit(train_data, train_label)\n",
    "\n",
    "pred = knn_model.predict(test_data[:1000, :])\n",
    "acc1000 = accuracy(test_label[:1000], pred)\n",
    "assert np.abs((1 - acc1000) - 0.038) < 0.1 ** 8\n",
    "\n",
    "pred = knn_model.predict(test_data)\n",
    "acc10000 = accuracy(test_label, pred)\n",
    "assert np.abs((1 - acc10000) - 0.0295) < 0.1 ** 8 # 책 예제에는 0.0309로 나오는데...?"
   ]
  },
  {
   "cell_type": "code",
   "execution_count": 6,
   "metadata": {},
   "outputs": [],
   "source": [
    "### Solution B\n",
    "\n",
    "feature_order = np.arange(train_data.shape[1])\n",
    "np.random.shuffle(feature_order)\n",
    "\n",
    "train_data = train_data[:, feature_order]\n",
    "test_data = test_data[:, feature_order]\n",
    "\n",
    "knn_model = KNN(3)\n",
    "knn_model.fit(train_data, train_label)\n",
    "\n",
    "pred = knn_model.predict(test_data[:1000, :])\n",
    "acc1000 = accuracy(test_label[:1000], pred)\n",
    "assert np.abs((1 - acc1000) - 0.038) < 0.1 ** 8"
   ]
  },
  {
   "cell_type": "code",
   "execution_count": 7,
   "metadata": {},
   "outputs": [
    {
     "output_type": "stream",
     "name": "stdout",
     "text": [
      "custom KNN process time :  387.1575629711151\n",
      "sklearn KNN process time :  101.43683624267578\n",
      "different predict count :  0\n"
     ]
    }
   ],
   "source": [
    "### Additional Experiment\n",
    "##### 직접 작성한 KNN 클래스의 처리 속도와 sklearn KNN 클래스의 처리 속도 비교\n",
    "\n",
    "import time\n",
    "from sklearn.neighbors import KNeighborsClassifier\n",
    "\n",
    "custom_start = time.time()\n",
    "knn_model = KNN(3)\n",
    "knn_model.fit(train_data, train_label)\n",
    "\n",
    "custom_pred = knn_model.predict(test_data[:1000, :])\n",
    "custom_end = time.time()\n",
    "\n",
    "print(\"custom KNN process time : \", custom_end - custom_start)\n",
    "\n",
    "sklearn_start = time.time()\n",
    "model = KNeighborsClassifier(n_neighbors=3)\n",
    "model.fit(train_data, train_label)\n",
    "\n",
    "sklearn_pred = model.predict(test_data[:1000, :])\n",
    "sklearn_end = time.time()\n",
    "\n",
    "print(\"sklearn KNN process time : \", sklearn_end - sklearn_start)\n",
    "\n",
    "print(\"different predict count : \", np.sum(custom_pred != sklearn_pred))"
   ]
  }
 ]
}